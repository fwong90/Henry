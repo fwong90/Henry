{
 "cells": [
  {
   "cell_type": "code",
   "execution_count": 181,
   "metadata": {},
   "outputs": [],
   "source": [
    "#importar librerias a usar\n",
    "import pandas as pd\n",
    "import numpy as np\n",
    "import os\n",
    "from datetime import datetime"
   ]
  },
  {
   "cell_type": "code",
   "execution_count": 182,
   "metadata": {},
   "outputs": [],
   "source": [
    "#especificar formato de campo fecha para carga directa desde lectura de pandas\n",
    "#req n°2 De haber fechas, deberán tener el formato AAAA-mm-dd\n",
    "custom_date_parser = lambda x: pd.to_datetime(x, format= \"%B %d, %Y\", errors='coerce')\n",
    "#importar csv solicitados \n",
    "amazon = pd.read_csv(\"D://Henry//PI 01//PI01-Data-Engineering//Datasets//amazon_prime_titles-score.csv\",parse_dates=['date_added'], date_parser=custom_date_parser)\n",
    "disney_plus = pd.read_csv(\"D://Henry//PI 01//PI01-Data-Engineering//Datasets//disney_plus_titles-score.csv\",parse_dates=['date_added'], date_parser=custom_date_parser)\n",
    "hulu = pd.read_csv(\"D://Henry//PI 01//PI01-Data-Engineering//Datasets//hulu_titles-score (2).csv\",parse_dates=['date_added'], date_parser=custom_date_parser)\n",
    "netflix = pd.read_csv(\"D://Henry//PI 01//PI01-Data-Engineering//Datasets//netflix_titles-score.csv\",parse_dates=['date_added'], date_parser=custom_date_parser)"
   ]
  },
  {
   "cell_type": "code",
   "execution_count": 183,
   "metadata": {},
   "outputs": [],
   "source": [
    "#Transformaciones de datos\n",
    "#req n°1 Generar campo id: Cada id se compondrá de la primera letra del nombre de la plataforma, seguido del show_id ya presente en los datasets (ejemplo para títulos de Amazon = as123)\n",
    "amazon[\"show_id\"] = \"a\" + amazon[\"show_id\"]\n",
    "disney_plus[\"show_id\"] = \"d\" + disney_plus[\"show_id\"]\n",
    "hulu[\"show_id\"] = \"h\" + hulu[\"show_id\"]\n",
    "netflix[\"show_id\"] = \"n\" + netflix[\"show_id\"]\n",
    "movie_db = pd.concat([amazon,disney_plus,hulu,netflix]).reset_index(drop=True)\n"
   ]
  },
  {
   "cell_type": "code",
   "execution_count": 184,
   "metadata": {},
   "outputs": [],
   "source": [
    "#req n°X1 encontré carga de datos en columnas erradas, así que las reubiqué donde deberian\n",
    "modificaciones_1 = movie_db[movie_db['rating'].str.contains('min', na=False)].index.to_list()\n",
    "modificaciones_2 = movie_db[movie_db['rating'].str.contains('Season', na=False)].index.to_list()\n",
    "\n",
    "modificaciones = modificaciones_1 + modificaciones_2\n",
    "\n",
    "for i in modificaciones:\n",
    "    movie_db.loc[i,\"duration\"] = movie_db.loc[i,\"rating\"]\n",
    "    movie_db.loc[i,\"rating\"] = np.nan\n"
   ]
  },
  {
   "cell_type": "code",
   "execution_count": 185,
   "metadata": {},
   "outputs": [],
   "source": [
    "#req n°3 Los valores nulos del campo rating deberán reemplazarse por el string “G” (corresponde al maturity rating: “general for all audiences”\n",
    "movie_db[\"rating\"] = movie_db[\"rating\"].replace(np.nan,\"G\")\n"
   ]
  },
  {
   "cell_type": "code",
   "execution_count": 186,
   "metadata": {},
   "outputs": [],
   "source": [
    "#req n°4 Los campos de texto deberán estar en minúsculas, sin excepciones\n",
    "movie_db = movie_db.applymap(lambda x: x.lower() if isinstance(x,str) else x)"
   ]
  },
  {
   "cell_type": "code",
   "execution_count": 187,
   "metadata": {},
   "outputs": [],
   "source": [
    "#req n°5 El campo duration debe convertirse en dos campos: duration_int y duration_type. El primero será un integer y el segundo un string indicando la unidad de medición de duración: min (minutos) o season (temporadas)\n",
    "dic = {'min':'min', np.nan:np.nan, 'season':'season', 'seasons':'season'}\n",
    "\n",
    "movie_db[[\"duration_int\",\"duration_type\"]]= movie_db[\"duration\"].apply(lambda x: pd.Series(str(x).split(\" \")))\n",
    "movie_db[\"duration_int\"] = movie_db[\"duration_int\"].apply(lambda x: np.nan if x == \"nan\" else x)\n",
    "movie_db[\"duration_int\"] = movie_db[\"duration_int\"].astype('Int64')\n",
    "movie_db[\"duration_type\"] = movie_db[\"duration_type\"].map(dic)"
   ]
  },
  {
   "cell_type": "code",
   "execution_count": 188,
   "metadata": {},
   "outputs": [],
   "source": [
    "#exportamos el csv limpio\n",
    "movie_db.to_csv(\"movie_db.csv\",encoding=\"UTF8\")"
   ]
  },
  {
   "cell_type": "code",
   "execution_count": 189,
   "metadata": {},
   "outputs": [
    {
     "data": {
      "text/plain": [
       "{'netflix': 196}"
      ]
     },
     "execution_count": 189,
     "metadata": {},
     "output_type": "execute_result"
    }
   ],
   "source": [
    "#1. Cantidad de veces que aparece una keyword en el título de peliculas/series, por plataforma\n",
    "## pregunta: si en 1 mismo titulo, aparece la palabra 2 veces, la contamos 2 veces o solo 1 por titulo?\n",
    "def get_word_count(plataforma,keyword):\n",
    "    dicc = {\"netflix\":\"n\",\"amazon\":\"a\",\"hulu\":\"h\",\"disney_plus\":\"d\"}\n",
    "\n",
    "    df_temp = movie_db[(movie_db.show_id.str[0] == dicc[plataforma])&(movie_db['title'].str.contains(keyword, na=False))]\n",
    "    data = df_temp.groupby(df_temp.show_id.str[0]).count().iloc[:,0]\n",
    "    data = data.rename_axis(\"Cantidad\").rename({v: k for k, v in dicc.items()})\n",
    "    return data.to_dict()\n",
    "\n",
    "get_word_count(\"netflix\",\"love\")"
   ]
  },
  {
   "cell_type": "code",
   "execution_count": 190,
   "metadata": {},
   "outputs": [
    {
     "data": {
      "text/plain": [
       "{'netflix': 20}"
      ]
     },
     "execution_count": 190,
     "metadata": {},
     "output_type": "execute_result"
    }
   ],
   "source": [
    "#2. Cantidad de películas por plataforma con un puntaje mayor a XX en determinado año\n",
    "def get_score_count(plataforma,puntaje,anio):\n",
    "    dicc = {\"netflix\":\"n\",\"amazon\":\"a\",\"hulu\":\"h\",\"disney_plus\":\"d\"}\n",
    "\n",
    "    df_temp = movie_db[(movie_db[\"score\"]>puntaje)&(movie_db[\"release_year\"]==anio)&(movie_db.show_id.str[0] == dicc[plataforma])&(movie_db[\"type\"] == \"movie\")]\n",
    "    data = df_temp.groupby(df_temp.show_id.str[0]).count().iloc[:,0]\n",
    "    data = data.rename({v: k for k, v in dicc.items()})\n",
    "    return data.to_dict()\n",
    "\n",
    "get_score_count(\"netflix\",85,2010)"
   ]
  },
  {
   "cell_type": "code",
   "execution_count": 191,
   "metadata": {},
   "outputs": [
    {
     "data": {
      "text/plain": [
       "{'title': 'abilene town', 'score': 100}"
      ]
     },
     "execution_count": 191,
     "metadata": {},
     "output_type": "execute_result"
    }
   ],
   "source": [
    "#3. La segunda película con mayor score para una plataforma determinada, según el orden alfabético de los títulos.\n",
    "#df.sort_values(['a', 'b'], ascending=[True, False])\n",
    "def get_second_score(plataforma):\n",
    "    dicc = {\"netflix\":\"n\",\"amazon\":\"a\",\"hulu\":\"h\",\"disney_plus\":\"d\"}\n",
    "\n",
    "    df_temp = movie_db[(movie_db.show_id.str[0] == dicc[plataforma])&(movie_db.type == \"movie\")].sort_values([\"score\",\"title\"],ascending=[False,True]).reset_index(drop=True)\n",
    "    df_temp = df_temp[[\"title\",\"score\"]].iloc[1,:]\n",
    "    return df_temp.to_dict()\n",
    "    \n",
    "get_second_score(\"amazon\")"
   ]
  },
  {
   "cell_type": "code",
   "execution_count": 192,
   "metadata": {},
   "outputs": [
    {
     "data": {
      "text/plain": [
       "{'title': 'sairat', 'duration_int': 173, 'duration_type': 'min'}"
      ]
     },
     "execution_count": 192,
     "metadata": {},
     "output_type": "execute_result"
    }
   ],
   "source": [
    "#4. Película que más duró según año, plataforma y tipo de duración\n",
    "\n",
    "def get_longest(plataforma,tipo_duracion,anio):\n",
    "    dicc = {\"netflix\":\"n\",\"amazon\":\"a\",\"hulu\":\"h\",\"disney_plus\":\"d\"}\n",
    "\n",
    "    temp = movie_db[(movie_db.show_id.str[0] == dicc[plataforma])&(movie_db.release_year == anio)&(movie_db.duration_type == tipo_duracion)&(movie_db.type == \"movie\")].sort_values([\"duration_int\"],ascending=False).reset_index(drop=True)[[\"title\",\"duration_int\",\"duration_type\"]].iloc[0,:]\n",
    "    return temp.to_dict()\n",
    "\n",
    "get_longest('netflix','min',2016)"
   ]
  },
  {
   "cell_type": "code",
   "execution_count": 193,
   "metadata": {},
   "outputs": [
    {
     "data": {
      "text/plain": [
       "1243"
      ]
     },
     "execution_count": 193,
     "metadata": {},
     "output_type": "execute_result"
    }
   ],
   "source": [
    "#5. Cantidad de series y películas por rating\n",
    "def get_rating_count(rating_cat):\n",
    "    return len(movie_db[movie_db[\"rating\"]==rating_cat])\n",
    "\n",
    "get_rating_count('18+')"
   ]
  },
  {
   "cell_type": "code",
   "execution_count": 194,
   "metadata": {},
   "outputs": [],
   "source": [
    "import requests\n",
    "n1 = requests.get(\"https://1r78k3.deta.dev/get_word_count/netflix/love\")\n",
    "n2 = requests.get(\"https://1r78k3.deta.dev/get_score_count/netflix/85/2010\")\n",
    "n3 = requests.get(\"https://1r78k3.deta.dev/get_second_score/amazon\")\n",
    "n4 = requests.get(\"https://1r78k3.deta.dev/get_longest/netflix/min/2016\")\n",
    "n5 = requests.get(\"https://1r78k3.deta.dev/get_rating_count/18+\")"
   ]
  },
  {
   "cell_type": "code",
   "execution_count": 195,
   "metadata": {},
   "outputs": [
    {
     "data": {
      "text/plain": [
       "({'netflix': 196},\n",
       " {'netflix': 20},\n",
       " {'title': 'abilene town', 'score': 100},\n",
       " {'title': 'sairat', 'duration_int': 173.0, 'duration_type': 'min'},\n",
       " 1243)"
      ]
     },
     "execution_count": 195,
     "metadata": {},
     "output_type": "execute_result"
    }
   ],
   "source": [
    "n1.json(),n2.json(),n3.json(),n4.json(),n5.json()"
   ]
  }
 ],
 "metadata": {
  "kernelspec": {
   "display_name": "base",
   "language": "python",
   "name": "python3"
  },
  "language_info": {
   "codemirror_mode": {
    "name": "ipython",
    "version": 3
   },
   "file_extension": ".py",
   "mimetype": "text/x-python",
   "name": "python",
   "nbconvert_exporter": "python",
   "pygments_lexer": "ipython3",
   "version": "3.9.13"
  },
  "orig_nbformat": 4,
  "vscode": {
   "interpreter": {
    "hash": "49cb93f377a7abe7414b7b0f21fb3017538004a126cf690fb524202736b7fb92"
   }
  }
 },
 "nbformat": 4,
 "nbformat_minor": 2
}
